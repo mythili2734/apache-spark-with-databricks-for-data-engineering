{
 "cells": [
  {
   "cell_type": "code",
   "execution_count": 58,
   "id": "a4f4931d-bf65-4b7c-8ea1-d996578b28ad",
   "metadata": {},
   "outputs": [
    {
     "data": {
      "text/html": [
       "\n",
       "            <div>\n",
       "                <p><b>SparkSession - in-memory</b></p>\n",
       "                \n",
       "        <div>\n",
       "            <p><b>SparkContext</b></p>\n",
       "\n",
       "            <p><a href=\"http://mythili:4045\">Spark UI</a></p>\n",
       "\n",
       "            <dl>\n",
       "              <dt>Version</dt>\n",
       "                <dd><code>v3.5.1</code></dd>\n",
       "              <dt>Master</dt>\n",
       "                <dd><code>local</code></dd>\n",
       "              <dt>AppName</dt>\n",
       "                <dd><code>pyspark</code></dd>\n",
       "            </dl>\n",
       "        </div>\n",
       "        \n",
       "            </div>\n",
       "        "
      ],
      "text/plain": [
       "<pyspark.sql.session.SparkSession at 0x19d8386ba10>"
      ]
     },
     "execution_count": 58,
     "metadata": {},
     "output_type": "execute_result"
    }
   ],
   "source": [
    "spark"
   ]
  },
  {
   "cell_type": "code",
   "execution_count": 59,
   "id": "596fbed8-b9ef-46f0-8540-7f135e0fe404",
   "metadata": {},
   "outputs": [
    {
     "data": {
      "text/html": [
       "\n",
       "        <div>\n",
       "            <p><b>SparkContext</b></p>\n",
       "\n",
       "            <p><a href=\"http://mythili:4045\">Spark UI</a></p>\n",
       "\n",
       "            <dl>\n",
       "              <dt>Version</dt>\n",
       "                <dd><code>v3.5.1</code></dd>\n",
       "              <dt>Master</dt>\n",
       "                <dd><code>local</code></dd>\n",
       "              <dt>AppName</dt>\n",
       "                <dd><code>pyspark</code></dd>\n",
       "            </dl>\n",
       "        </div>\n",
       "        "
      ],
      "text/plain": [
       "<SparkContext master=local appName=pyspark>"
      ]
     },
     "execution_count": 59,
     "metadata": {},
     "output_type": "execute_result"
    }
   ],
   "source": [
    "spark.sparkContext"
   ]
  },
  {
   "cell_type": "code",
   "execution_count": 60,
   "id": "8b75944b-375e-407c-971d-845a97e39fa2",
   "metadata": {},
   "outputs": [
    {
     "data": {
      "text/plain": [
       "[Row(id=0),\n",
       " Row(id=1),\n",
       " Row(id=2),\n",
       " Row(id=3),\n",
       " Row(id=4),\n",
       " Row(id=5),\n",
       " Row(id=6),\n",
       " Row(id=7),\n",
       " Row(id=8),\n",
       " Row(id=9)]"
      ]
     },
     "execution_count": 60,
     "metadata": {},
     "output_type": "execute_result"
    }
   ],
   "source": [
    "spark.range(10).rdd.collect()"
   ]
  },
  {
   "cell_type": "code",
   "execution_count": 61,
   "id": "2fc61658-cc57-42cf-8024-41cad7781b64",
   "metadata": {},
   "outputs": [
    {
     "name": "stdout",
     "output_type": "stream",
     "text": [
      "+---+\n",
      "| id|\n",
      "+---+\n",
      "|  0|\n",
      "|  1|\n",
      "|  2|\n",
      "|  3|\n",
      "|  4|\n",
      "|  5|\n",
      "|  6|\n",
      "|  7|\n",
      "|  8|\n",
      "|  9|\n",
      "+---+\n",
      "\n"
     ]
    }
   ],
   "source": [
    "spark.range(10).show()"
   ]
  },
  {
   "cell_type": "code",
   "execution_count": 62,
   "id": "8374bdf2-b7e6-43e3-ba9a-dabffdcbc45c",
   "metadata": {},
   "outputs": [
    {
     "data": {
      "text/plain": [
       "[0, 1, 2, 3, 4, 5, 6, 7, 8, 9]"
      ]
     },
     "execution_count": 62,
     "metadata": {},
     "output_type": "execute_result"
    }
   ],
   "source": [
    "spark.range(10).toDF(\"id\").rdd.map(lambda row: row[0]).collect()"
   ]
  },
  {
   "cell_type": "code",
   "execution_count": 63,
   "id": "55351cf4-4195-445f-98ba-f14dc22ae343",
   "metadata": {},
   "outputs": [
    {
     "name": "stdout",
     "output_type": "stream",
     "text": [
      "+---+\n",
      "| id|\n",
      "+---+\n",
      "|  0|\n",
      "|  1|\n",
      "|  2|\n",
      "|  3|\n",
      "|  4|\n",
      "|  5|\n",
      "|  6|\n",
      "|  7|\n",
      "|  8|\n",
      "|  9|\n",
      "+---+\n",
      "\n"
     ]
    }
   ],
   "source": [
    "spark.range(10).rdd.toDF().show()"
   ]
  },
  {
   "cell_type": "code",
   "execution_count": 64,
   "id": "a1e07be1-f920-4e47-86a0-da872de3ed8d",
   "metadata": {},
   "outputs": [],
   "source": [
    "myCollection = \"My name is Mythili\".split(\" \")"
   ]
  },
  {
   "cell_type": "code",
   "execution_count": 65,
   "id": "46cda2e1-ebb8-4d1f-a60e-d78689e698e4",
   "metadata": {},
   "outputs": [
    {
     "data": {
      "text/plain": [
       "['My', 'name', 'is', 'Mythili']"
      ]
     },
     "execution_count": 65,
     "metadata": {},
     "output_type": "execute_result"
    }
   ],
   "source": [
    "myCollection"
   ]
  },
  {
   "cell_type": "code",
   "execution_count": 66,
   "id": "63da2305-b111-493e-8e6a-99a0b379254f",
   "metadata": {},
   "outputs": [],
   "source": [
    "words = spark.sparkContext.parallelize(myCollection, 2)"
   ]
  },
  {
   "cell_type": "code",
   "execution_count": 67,
   "id": "c7db904e-2d34-4d08-af05-39d30e247217",
   "metadata": {},
   "outputs": [
    {
     "data": {
      "text/plain": [
       "myName ParallelCollectionRDD[99] at readRDDFromFile at PythonRDD.scala:289"
      ]
     },
     "execution_count": 67,
     "metadata": {},
     "output_type": "execute_result"
    }
   ],
   "source": [
    "words.setName(\"myName\")"
   ]
  },
  {
   "cell_type": "code",
   "execution_count": 68,
   "id": "3b272904-71c3-402f-bdbb-95862b693ddf",
   "metadata": {},
   "outputs": [
    {
     "data": {
      "text/plain": [
       "'myName'"
      ]
     },
     "execution_count": 68,
     "metadata": {},
     "output_type": "execute_result"
    }
   ],
   "source": [
    "words.name()"
   ]
  },
  {
   "cell_type": "code",
   "execution_count": 69,
   "id": "38e33455-3399-4a11-a19e-d7856f9b4b68",
   "metadata": {},
   "outputs": [
    {
     "data": {
      "text/plain": [
       "4"
      ]
     },
     "execution_count": 69,
     "metadata": {},
     "output_type": "execute_result"
    }
   ],
   "source": [
    "words.distinct().count()"
   ]
  },
  {
   "cell_type": "code",
   "execution_count": 70,
   "id": "6c1bfe6c-2660-4d23-b3a4-85fb560e26f3",
   "metadata": {},
   "outputs": [],
   "source": [
    "def startsWithS(individual):\n",
    "    return individual.startswith(\"M\")"
   ]
  },
  {
   "cell_type": "code",
   "execution_count": 71,
   "id": "0150775c-06c1-477d-9bda-353a553c99ea",
   "metadata": {},
   "outputs": [
    {
     "data": {
      "text/plain": [
       "['My', 'Mythili']"
      ]
     },
     "execution_count": 71,
     "metadata": {},
     "output_type": "execute_result"
    }
   ],
   "source": [
    "words.filter(lambda word: startsWithS(word)).collect()"
   ]
  },
  {
   "cell_type": "code",
   "execution_count": 72,
   "id": "c4c3d915-20ab-42e8-af8c-63075dbe45eb",
   "metadata": {},
   "outputs": [
    {
     "data": {
      "text/plain": [
       "['My', 'name', 'is', 'Mythili']"
      ]
     },
     "execution_count": 72,
     "metadata": {},
     "output_type": "execute_result"
    }
   ],
   "source": [
    "words.collect()"
   ]
  },
  {
   "cell_type": "code",
   "execution_count": 73,
   "id": "d3826b4d-8568-434c-b238-294ef9deed34",
   "metadata": {},
   "outputs": [],
   "source": [
    "words2 = words.map(lambda word: (word, word[0], word.startswith('n')))"
   ]
  },
  {
   "cell_type": "code",
   "execution_count": 74,
   "id": "3711c84c-7318-4054-8339-933f96a392df",
   "metadata": {},
   "outputs": [
    {
     "data": {
      "text/plain": [
       "[('My', 'M', False),\n",
       " ('name', 'n', True),\n",
       " ('is', 'i', False),\n",
       " ('Mythili', 'M', False)]"
      ]
     },
     "execution_count": 74,
     "metadata": {},
     "output_type": "execute_result"
    }
   ],
   "source": [
    "words2.collect()"
   ]
  },
  {
   "cell_type": "code",
   "execution_count": 75,
   "id": "bf312ca9-76b9-4499-b593-d96bbd1255c7",
   "metadata": {},
   "outputs": [
    {
     "data": {
      "text/plain": [
       "[('name', 'n', True)]"
      ]
     },
     "execution_count": 75,
     "metadata": {},
     "output_type": "execute_result"
    }
   ],
   "source": [
    "words2.filter(lambda record: record[2]).take(5)"
   ]
  },
  {
   "cell_type": "code",
   "execution_count": 76,
   "id": "0c921357-49c0-4508-8820-49de05dae848",
   "metadata": {},
   "outputs": [
    {
     "data": {
      "text/plain": [
       "['M', 'y', 'n', 'a', 'm', 'e']"
      ]
     },
     "execution_count": 76,
     "metadata": {},
     "output_type": "execute_result"
    }
   ],
   "source": [
    "words.flatMap(lambda word: list(word)).take(6)"
   ]
  },
  {
   "cell_type": "code",
   "execution_count": 77,
   "id": "acc0a597-93d6-4d25-91d2-d34c72caf793",
   "metadata": {},
   "outputs": [
    {
     "data": {
      "text/plain": [
       "['Mythili', 'name', 'My', 'is']"
      ]
     },
     "execution_count": 77,
     "metadata": {},
     "output_type": "execute_result"
    }
   ],
   "source": [
    "words.sortBy(lambda word: len(word) * -1).take(4)"
   ]
  },
  {
   "cell_type": "code",
   "execution_count": 78,
   "id": "01241871-e47a-433e-9799-e1d6a927b705",
   "metadata": {},
   "outputs": [
    {
     "data": {
      "text/plain": [
       "210"
      ]
     },
     "execution_count": 78,
     "metadata": {},
     "output_type": "execute_result"
    }
   ],
   "source": [
    "spark.sparkContext.parallelize(range(1, 21)).reduce(lambda x, y: x + y) "
   ]
  },
  {
   "cell_type": "code",
   "execution_count": 79,
   "id": "86b336ff-0b41-47bb-95b0-68eac066b776",
   "metadata": {},
   "outputs": [
    {
     "data": {
      "text/plain": [
       "[1, 2, 3, 4, 5, 6, 7, 8, 9, 10, 11, 12, 13, 14, 15, 16, 17, 18, 19, 20]"
      ]
     },
     "execution_count": 79,
     "metadata": {},
     "output_type": "execute_result"
    }
   ],
   "source": [
    "spark.sparkContext.parallelize(range(1, 21)).collect()"
   ]
  },
  {
   "cell_type": "code",
   "execution_count": 80,
   "id": "6f67cec6-a971-40af-b567-fb4fc6b8ca23",
   "metadata": {},
   "outputs": [
    {
     "data": {
      "text/plain": [
       "4"
      ]
     },
     "execution_count": 80,
     "metadata": {},
     "output_type": "execute_result"
    }
   ],
   "source": [
    "words.count()"
   ]
  },
  {
   "cell_type": "code",
   "execution_count": 81,
   "id": "c8a821c6-7f7b-42b8-bbfd-35e38f35a69d",
   "metadata": {},
   "outputs": [
    {
     "data": {
      "text/plain": [
       "4"
      ]
     },
     "execution_count": 81,
     "metadata": {},
     "output_type": "execute_result"
    }
   ],
   "source": [
    "confidence = 0.95\n",
    "timeoutMilliseconds = 400\n",
    "words.countApprox(timeoutMilliseconds, confidence)"
   ]
  },
  {
   "cell_type": "code",
   "execution_count": 82,
   "id": "e00c715b-003c-4191-9f54-b93a9155073d",
   "metadata": {},
   "outputs": [
    {
     "data": {
      "text/plain": [
       "defaultdict(int, {'My': 1, 'name': 1, 'is': 1, 'Mythili': 1})"
      ]
     },
     "execution_count": 82,
     "metadata": {},
     "output_type": "execute_result"
    }
   ],
   "source": [
    "words.countByValue()"
   ]
  },
  {
   "cell_type": "code",
   "execution_count": 83,
   "id": "a1038c10-d19f-4f6f-905d-ac406ef2dca4",
   "metadata": {},
   "outputs": [
    {
     "data": {
      "text/plain": [
       "'My'"
      ]
     },
     "execution_count": 83,
     "metadata": {},
     "output_type": "execute_result"
    }
   ],
   "source": [
    "words.first()"
   ]
  },
  {
   "cell_type": "code",
   "execution_count": 84,
   "id": "b47b4edf-aa0a-4191-8ab4-56d947118ccb",
   "metadata": {},
   "outputs": [
    {
     "data": {
      "text/plain": [
       "[['Hello'], ['World']]"
      ]
     },
     "execution_count": 84,
     "metadata": {},
     "output_type": "execute_result"
    }
   ],
   "source": [
    "spark.sparkContext.parallelize([\"Hello\", \"World\"], 2).glom().collect()"
   ]
  },
  {
   "cell_type": "code",
   "execution_count": null,
   "id": "12db4ed9-1f19-4661-8f09-e6e7cbe53888",
   "metadata": {},
   "outputs": [],
   "source": []
  }
 ],
 "metadata": {
  "kernelspec": {
   "display_name": "Python 3 (ipykernel)",
   "language": "python",
   "name": "python3"
  },
  "language_info": {
   "codemirror_mode": {
    "name": "ipython",
    "version": 3
   },
   "file_extension": ".py",
   "mimetype": "text/x-python",
   "name": "python",
   "nbconvert_exporter": "python",
   "pygments_lexer": "ipython3",
   "version": "3.11.7"
  }
 },
 "nbformat": 4,
 "nbformat_minor": 5
}
